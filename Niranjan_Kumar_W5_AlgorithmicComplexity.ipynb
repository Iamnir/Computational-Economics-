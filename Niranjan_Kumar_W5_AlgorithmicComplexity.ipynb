{
  "nbformat": 4,
  "nbformat_minor": 0,
  "metadata": {
    "colab": {
      "name": "Niranjan Kumar - W5_AlgorithmicComplexity.ipynb",
      "provenance": [],
      "collapsed_sections": []
    },
    "kernelspec": {
      "name": "python3",
      "display_name": "Python 3"
    },
    "language_info": {
      "name": "python"
    }
  },
  
    {
      "cell_type": "markdown",
      "source": [
        "Assuming you have gone through [Introduction to Asymptotic Analysis and Big O](https://www.educative.io/courses/data-structures-coding-interviews-cpp/qVQq0WLjO3p) "
      ],
      "metadata": {
        "id": "-cVz98WOlh7H"
      }
    },
    {
      "cell_type": "markdown",
      "source": [
        "# Time Complexity"
      ],
      "metadata": {
        "id": "E-jMOSP3sgzr"
      }
    },
    {
      "cell_type": "code",
      "source": [
        "import numpy as np"
      ],
      "metadata": {
        "id": "-Xk9No6VwGUl"
      },
      "execution_count": null,
      "outputs": []
    },
    {
      "cell_type": "code",
      "source": [
        "ls1 = list(np.random.randint(0, high=100, size=21))\n",
        "ls2 = list(np.random.randint(0, high=100, size=33))\n",
        "N = len(ls1)\n",
        "M = len(ls2)\n",
        "print(N, M)"
      ],
      "metadata": {
        "colab": {
          "base_uri": "https://localhost:8080/"
        },
        "id": "uU0F41fZvLXw",
        "outputId": "a2918b25-3343-435e-ea3a-7257a29513c2"
      },
      "execution_count": null,
      "outputs": [
        {
          "output_type": "stream",
          "name": "stdout",
          "text": [
            "21 33\n"
          ]
        }
      ]
    },
    {
      "cell_type": "code",
      "source": [
        "print(ls1)\n",
        "print(ls2)"
      ],
      "metadata": {
        "colab": {
          "base_uri": "https://localhost:8080/"
        },
        "id": "QJUNN1wfwvQw",
        "outputId": "53a5bd39-67af-4595-979b-7a42f69cd15e"
      },
      "execution_count": null,
      "outputs": [
        {
          "output_type": "stream",
          "name": "stdout",
          "text": [
            "[44, 8, 93, 68, 33, 32, 90, 27, 7, 51, 20, 42, 13, 61, 17, 96, 84, 4, 8, 98, 80]\n",
            "[56, 53, 35, 71, 69, 85, 79, 48, 33, 98, 53, 22, 5, 13, 1, 86, 81, 54, 93, 8, 90, 25, 16, 15, 97, 40, 6, 70, 89, 55, 53, 26, 71]\n"
          ]
        }
      ]
    },
    {
      "cell_type": "code",
      "source": [
        "for x in ls1:\n",
        "  a = x / 2"
      ],
      "metadata": {
        "id": "cX3zmyt-tUtn"
      },
      "execution_count": null,
      "outputs": []
    },
    {
      "cell_type": "markdown",
      "source": [
        "> 1 + 1 + 1 + ... N times = N <= c(N) (for c=1, for all N) ~ O(N)"
      ],
      "metadata": {
        "id": "S7qbchdIF7Bi"
      }
    },
    {
      "cell_type": "code",
      "source": [
        "for x in ls1:\n",
        "  a = x / 2\n",
        "  b = x - 15\n",
        "  c = a * b"
      ],
      "metadata": {
        "id": "XSvOuP27vY18"
      },
      "execution_count": null,
      "outputs": []
    },
    {
      "cell_type": "markdown",
      "source": [
        "> 3 + 3 + 3 + .. N times = 3N <= cN (for c=3, for all N) ~ O(N)"
      ],
      "metadata": {
        "id": "NdShFSX0Gfu0"
      }
    },
    {
      "cell_type": "code",
      "source": [
        "for i in range(N):\n",
        "  x = ls1[i]\n",
        "  for j in range(M):\n",
        "    y = ls2[j]\n",
        "    c = x * y"
      ],
      "metadata": {
        "id": "YDLfjI3cvlNl"
      },
      "execution_count": null,
      "outputs": []
    },
    {
      "cell_type": "markdown",
      "source": [
        "> (1+2M) + (1+2M) + ( ) + ... N times = N + 2MN = 1/M(MN) + 2MN = (1/M + 2) * MN <= 3MN ~ O(MN)"
      ],
      "metadata": {
        "id": "YDHEf3OsG66O"
      }
    },
    {
      "cell_type": "code",
      "source": [
        "argmin = 0\n",
        "valmin = ls2[0]\n",
        "for i, x in enumerate(ls2):\n",
        "  if x < valmin:\n",
        "    argmin = i\n",
        "    valmin = x\n",
        "\n",
        "print(argmin, valmin)"
      ],
      "metadata": {
        "colab": {
          "base_uri": "https://localhost:8080/"
        },
        "id": "tCYLA9scvs7l",
        "outputId": "bb975b9c-aad8-4c0a-bf95-60d7a6bf3a8d"
      },
      "execution_count": null,
      "outputs": [
        {
          "output_type": "stream",
          "name": "stdout",
          "text": [
            "14 1\n"
          ]
        }
      ]
    },
    {
      "cell_type": "markdown",
      "source": [
        "~ O(M)"
      ],
      "metadata": {
        "id": "CsSBjxsVKuFO"
      }
    },
    {
      "cell_type": "code",
      "source": [
        "for i in range(0, M, 5):\n",
        "  print(i, ls2[i])"
      ],
      "metadata": {
        "colab": {
          "base_uri": "https://localhost:8080/"
        },
        "id": "M_dEqvyk60Ot",
        "outputId": "71746c95-e7a2-49cb-c72e-994f6d4b80f1"
      },
      "execution_count": null,
      "outputs": [
        {
          "output_type": "stream",
          "name": "stdout",
          "text": [
            "0 56\n",
            "5 85\n",
            "10 53\n",
            "15 86\n",
            "20 90\n",
            "25 40\n",
            "30 53\n"
          ]
        }
      ]
    },
    {
      "cell_type": "markdown",
      "source": [
        "M//5 + 1 <= (M/5) + 1 <= (M/5) + (1/M)*M = (1/5 + 1/M) * M = 1.2 * M <= 1.2*M ~ O(M)"
      ],
      "metadata": {
        "id": "Qk1dR5EOLQeC"
      }
    },
    {
      "cell_type": "code",
      "source": [
        "i = 0\n",
        "while i < N:\n",
        "  print(i)\n",
        "  i += 5"
      ],
      "metadata": {
        "colab": {
          "base_uri": "https://localhost:8080/"
        },
        "id": "p9tF2j2z9yi0",
        "outputId": "5f21b93e-a63d-4809-9198-e190950d51eb"
      },
      "execution_count": null,
      "outputs": [
        {
          "output_type": "stream",
          "name": "stdout",
          "text": [
            "0\n",
            "5\n",
            "10\n",
            "15\n",
            "20\n"
          ]
        }
      ]
    },
    {
      "cell_type": "markdown",
      "source": [
        "O(N)"
      ],
      "metadata": {
        "id": "YWzoplLUNBp5"
      }
    },
    {
      "cell_type": "code",
      "source": [
        "i = 1\n",
        "while i < N:\n",
        "  print(i)\n",
        "  i = i*2"
      ],
      "metadata": {
        "colab": {
          "base_uri": "https://localhost:8080/"
        },
        "id": "dpIus7wDyzge",
        "outputId": "e4bf39a5-8f0f-495e-cc99-d12d2fd5e566"
      },
      "execution_count": null,
      "outputs": [
        {
          "output_type": "stream",
          "name": "stdout",
          "text": [
            "1\n",
            "2\n",
            "4\n",
            "8\n",
            "16\n"
          ]
        }
      ]
    },
    {
      "cell_type": "markdown",
      "source": [
        "2 + 2 + ... log<sub>2</sub>N times = 2*(log<sub>2</sub>N)  ~ O(log<sub>2</sub>N)"
      ],
      "metadata": {
        "id": "iGxFDaQmQeTv"
      }
    },
    {
      "cell_type": "code",
      "source": [
        "for i in range(1, N):\n",
        "  print(i)\n",
        "  i = i*2"
      ],
      "metadata": {
        "id": "OWXSu3u293pK",
        "colab": {
          "base_uri": "https://localhost:8080/"
        },
        "outputId": "9f7d41c7-45a9-4220-f3a9-93757e63d44a"
      },
      "execution_count": null,
      "outputs": [
        {
          "output_type": "stream",
          "name": "stdout",
          "text": [
            "1\n",
            "2\n",
            "3\n",
            "4\n",
            "5\n",
            "6\n",
            "7\n",
            "8\n",
            "9\n",
            "10\n",
            "11\n",
            "12\n",
            "13\n",
            "14\n",
            "15\n",
            "16\n",
            "17\n",
            "18\n",
            "19\n",
            "20\n"
          ]
        }
      ]
    },
    {
      "cell_type": "markdown",
      "source": [
        "O(N)"
      ],
      "metadata": {
        "id": "14HEWOp0RTAj"
      }
    },
    {
      "cell_type": "code",
      "source": [
        " i = 1\n",
        "while i < N:\n",
        "    for j in range(i):\n",
        "        sum += 1\n",
        "    i *= 2"
      ],
      "metadata": {
        "id": "tSnh9o9R-Ay8",
        "colab": {
          "base_uri": "https://localhost:8080/",
          "height": 230
        },
        "outputId": "8d89cecb-165d-42b5-ff5c-d36dd028c8ff"
      },
      "execution_count": null,
      "outputs": [
        {
          "output_type": "error",
          "ename": "TypeError",
          "evalue": "ignored",
          "traceback": [
            "\u001b[0;31m---------------------------------------------------------------------------\u001b[0m",
            "\u001b[0;31mTypeError\u001b[0m                                 Traceback (most recent call last)",
            "\u001b[0;32m<ipython-input-108-a224f25dcf58>\u001b[0m in \u001b[0;36m<module>\u001b[0;34m()\u001b[0m\n\u001b[1;32m      2\u001b[0m \u001b[0;32mwhile\u001b[0m \u001b[0mi\u001b[0m \u001b[0;34m<\u001b[0m \u001b[0mN\u001b[0m\u001b[0;34m:\u001b[0m\u001b[0;34m\u001b[0m\u001b[0;34m\u001b[0m\u001b[0m\n\u001b[1;32m      3\u001b[0m     \u001b[0;32mfor\u001b[0m \u001b[0mj\u001b[0m \u001b[0;32min\u001b[0m \u001b[0mrange\u001b[0m\u001b[0;34m(\u001b[0m\u001b[0mi\u001b[0m\u001b[0;34m)\u001b[0m\u001b[0;34m:\u001b[0m\u001b[0;34m\u001b[0m\u001b[0;34m\u001b[0m\u001b[0m\n\u001b[0;32m----> 4\u001b[0;31m         \u001b[0msum\u001b[0m \u001b[0;34m+=\u001b[0m \u001b[0;36m1\u001b[0m\u001b[0;34m\u001b[0m\u001b[0;34m\u001b[0m\u001b[0m\n\u001b[0m\u001b[1;32m      5\u001b[0m     \u001b[0mi\u001b[0m \u001b[0;34m*=\u001b[0m \u001b[0;36m2\u001b[0m\u001b[0;34m\u001b[0m\u001b[0;34m\u001b[0m\u001b[0m\n",
            "\u001b[0;31mTypeError\u001b[0m: unsupported operand type(s) for +=: 'builtin_function_or_method' and 'int'"
          ]
        }
      ]
    },
    {
      "cell_type": "markdown",
      "source": [
        "1 + 2 + 4 + 8 + ... (log<sub>2</sub>N) times = (2<sup>log<sub>2</sub>N</sup> - 1) / (2-1) = (N - 1) < N ~ O(N)"
      ],
      "metadata": {
        "id": "hOD6Lb4JRaRl"
      }
    },
    {
      "cell_type": "markdown",
      "source": [
        "# Space Complexity"
      ],
      "metadata": {
        "id": "rVZqV_FSsa1C"
      }
    },
    {
      "cell_type": "markdown",
      "source": [
        "## Before we discuss Big(O), let's discuss space-optimization via In-Place Operations\n",
        "> Given a list, write a function to reverse it, **without** using the inbuilt *reverse/reversed* functions, i.e., write your own while/for loop(s) to accomplish this. "
      ],
      "metadata": {
        "id": "44OoWJvT_A56"
      }
    },
    {
      "cell_type": "code",
      "source": [
        "def reverse(lst):\n",
        "  n = len(lst)\n",
        "  answer = []\n",
        "  for i in range(n-1, -1, -1):\n",
        "    answer.append(lst[i])\n",
        "  return answer\n",
        "\n",
        "reversed_ls1 = reverse(ls1)\n",
        "print(reversed_ls1)\n",
        "print(ls1)"
      ],
      "metadata": {
        "id": "mwhy3i18-jHc"
      },
      "execution_count": null,
      "outputs": []
    },
    {
      "cell_type": "markdown",
      "source": [
        "> Given a list, write a function to reverse it inplace"
      ],
      "metadata": {
        "id": "39rb9hWPdfqK"
      }
    },
    {
      "cell_type": "code",
      "source": [
        "def reverse_inplace(lst):\n",
        "  n = len(lst)\n",
        "  i = 0\n",
        "  while i < n//2:\n",
        "    lst[i], lst[n-1-i] = lst[n-1-i], lst[i]\n",
        "    i += 1\n",
        "    \n",
        "  return None\n",
        "\n",
        "print(ls1)\n",
        "reverse_inplace(ls1)\n",
        "print(ls1)\n"
      ],
      "metadata": {
        "id": "hpcnsCx9e81a"
      },
      "execution_count": null,
      "outputs": []
    },
    {
      "cell_type": "markdown",
      "source": [
        "## Big(O) for Space: **Consider Space Beyond the Input/Output**\n",
        "\n"
      ],
      "metadata": {
        "id": "LXEiOO0vhHqF"
      }
    },
    {
      "cell_type": "markdown",
      "source": [
        "> **Count Neutralizing Pairs**\n",
        "\n",
        "> *Given a list of distinct integers, write a function 'count_neutralizing_pairs' that finds the number of pairs that sum to 0.*"
      ],
      "metadata": {
        "id": "tNNpEwwOh-EY"
      }
    },
    {
      "cell_type": "code",
      "source": [
        "#Solution 1 (from one of the students)\n",
        "\n",
        "def count_neutralizing_pairs_s1(list1):   #Defining the function\n",
        "  i = 0\n",
        "  count = 0\n",
        "  length = len(list1)\n",
        "\n",
        "  \"\"\"In the folowing two nested loops, I pick a value from list, and then in second loop\n",
        "  I run it from i+1th position till the end to find any pair that sums to zero. If any pair exists,\n",
        "  I also update my count of such pairs\"\"\"\n",
        "  while i<length:                              \n",
        "    j = i+1\n",
        "    while j<length:\n",
        "      total = list1[i] + list1[j]\n",
        "      if total == 0:\n",
        "        count = count+1\n",
        "      j = j+1\n",
        "    i=i+1\n",
        "  return count"
      ],
      "metadata": {
        "id": "IJM3TXpliAFD"
      },
      "execution_count": null,
      "outputs": []
    },
    {
      "cell_type": "markdown",
      "source": [
        "- Time Complexity ~ O(n^2)\n",
        "- Space Complexity = i, j, total, length (4 units, each 32 bits) <= 4* 1 ~ O(1)"
      ],
      "metadata": {
        "id": "ajxdqV1UiLc4"
      }
    },
    {
      "cell_type": "code",
      "source": [
        "def count_neutralizing_pairs_s2(lst):\n",
        "  count = 0\n",
        "  seen = set()\n",
        "  for x in lst:\n",
        "    if -x in seen: # O(1) operation when using a data-structure that uses hashing (e.g.: set, dict)\n",
        "      count += 1\n",
        "    seen.add(x)\n",
        "\n",
        "  return count\n",
        "\n"
      ],
      "metadata": {
        "id": "acE31pJpjupU"
      },
      "execution_count": null,
      "outputs": []
    },
    {
      "cell_type": "markdown",
      "source": [
        "- Time Complexity ~ O(n)\n",
        "- Space Complexity ~ O(n) "
      ],
      "metadata": {
        "id": "mDvYTEdjlM6b"
      }
    },
    {
      "cell_type": "code",
      "source": [
        "count_neutralizing_pairs_s2([0,-21,2,7, -2, -7, 13, 21, -21])"
      ],
      "metadata": {
        "id": "f8ltgUdGkllX"
      },
      "execution_count": null,
      "outputs": []
    },
    {
      "cell_type": "markdown",
      "source": [
        "# Recursive Functions"
      ],
      "metadata": {
        "id": "BHd7pmqbqrl0"
      }
    },
    {
      "cell_type": "code",
      "source": [
        "def get_floor_of_log(target, base):\n",
        "  if target <= 1:\n",
        "    return 0\n",
        "  else:\n",
        "    return 1 + get_floor_of_log(target//base, base)\n",
        "\n",
        "get_floor_of_log(32, 2), get_floor_of_log(67, 2), get_floor_of_log(85, 3)"
      ],
      "metadata": {
        "id": "oqzIIQ3H_So1"
      },
      "execution_count": null,
      "outputs": []
    },
    {
      "cell_type": "code",
      "source": [
        "def gcd(a, b):\n",
        "  if a >= b:\n",
        "    large, small = a, b\n",
        "  else:\n",
        "    large, small = b, a\n",
        "  \n",
        "  mod = large % small\n",
        "\n",
        "  if mod == 0:\n",
        "    return small\n",
        "  else:\n",
        "    return gcd(small, mod)\n",
        "\n",
        "gcd(16, 36), gcd(45, 72)\n"
      ],
      "metadata": {
        "id": "EeCDB0EvAfb2"
      },
      "execution_count": null,
      "outputs": []
    },
    {
      "cell_type": "markdown",
      "source": [
        "~ O(log(min(a,b))"
      ],
      "metadata": {
        "id": "pcD-KYhks0Oy"
      }
    },
    {
      "cell_type": "markdown",
      "source": [
        "# Exercises"
      ],
      "metadata": {
        "id": "fNl8Eu4qy7db"
      }
    },
    {
      "cell_type": "markdown",
      "source": [
        "> 1. (20 Points) Find the Big(O) Time Complexity for the program below:\n",
        "\n",
        "```\n",
        "    for i in range(n):\n",
        "        j = 1\n",
        "        while j < i:\n",
        "            sum += 1\n",
        "            j *= 3\n",
        "        print(sum)\n",
        "```\n",
        "\n",
        "\n",
        "\n"
      ],
      "metadata": {
        "id": "CrWZf1lerV6n"
      }
    },
    {
      "cell_type": "markdown",
      "source": [
        "Time Complexity ~ 0*log<sub>3</sub>i + 1*log<sub>3</sub>i + ...ilog<sub>3</sub>N times =   ~ O(log<sub>3</sub>....\n",
        "\n",
        "> Indented block\n",
        "\n",
        "\n"
      ],
      "metadata": {
        "id": "oFYBqIHT4gQq"
      }
    },
    {
      "cell_type": "markdown",
      "source": [
        "#####Extra for Problem 1. (testing big-o using the library)"
      ],
      "metadata": {
        "id": "PYaNJsZv-yHj"
      }
    },
    {
      "cell_type": "code",
      "source": [
        "#To calculate the big(o) of the above code, we define a function to test the same. \n",
        "def threen(n): \n",
        "    for i in range(n):\n",
        "        j = 1\n",
        "        while j < i:\n",
        "            sum += 1\n",
        "            j *= 3\n",
        "        print(sum)\n"
      ],
      "metadata": {
        "id": "tNmPic40vSfc"
      },
      "execution_count": null,
      "outputs": []
    },
    {
      "cell_type": "markdown",
      "source": [
        "> 2. (30 Points) Find the Big(O) Time Complexity & Space Complexity of the following function, where list1 and list2 are lists of size M & N respectively. Can you optimize it for Time? \n",
        "Reminder: Space Complexity is about only the extra space used, beyond the inputs and outputs.\n",
        "\n",
        "> ```\n",
        "def find_common_elements(list1, list2):\n",
        "  result = []\n",
        "  for x in list1:\n",
        "    if x in list2:\n",
        "      result.append(x)\n",
        "  return result\n",
        "\n",
        "\n",
        "\n",
        "\n"
      ],
      "metadata": {
        "id": "feeC0mv4zB0B"
      }
    },
    {
      "cell_type": "markdown",
      "source": [
        "**Time Complexity**:~ **O(MN)**\n",
        "    We can see that we are iterating each element of the list1 and checking if the same element is present in the list2. If the same element is in both the lists then we can append it into the new list 'result' Now we can say that the time complexity. \n",
        "\n",
        "**Space Complexity** :In the worst case, the space compelxity would be  **O(min(M, N))**. Because size of the result array will be the size of minimum of both lists since it is saving the common elements. In the best case scenario, when there would not be any common element in both lists then the space complexity would be O(1). "
      ],
      "metadata": {
        "id": "fftuTgFN73iC"
      }
    },
    {
      "cell_type": "markdown",
      "source": [
        "**Optimizing the code:** If we introduce a local variable of dictionary datatype then it will improve the runtime of the algorithm. \n",
        "Dictionary in python stores key, value pairs items where order doesn't matter. Now we convert either of two lists into a dictionary and traverse all the elements in other list and check for the element in the dictionary. If the element is present in the dictionary (local variable) then add to the output list. \n",
        "\n",
        "**Time Complexity:** Now the runtime of the algorithm is **O(M+N)** since both lists would have been traversed only one time. \n",
        "  \n",
        "  **Space Complexity:** It is still either be **O(min(M, N))** or in the best case **O(1)** when there ain't any common elements. \n",
        "Note: We use curly braces to define dictionary.\n",
        "\n",
        "---\n",
        "```\n",
        "# This is formatted as code\n",
        "def find_common_elements(list1, list2):\n",
        "     result = []\n",
        "     temp_dictr= dict.fromkeys(list2, True)\n",
        "     for x in list1:\n",
        "         if x in temp_dictr:\n",
        "           result.append(x)\n",
        "     return result\n",
        "\n",
        "```\n",
        "\n",
        "\n"
      ],
      "metadata": {
        "id": "s3zhp0hJvkCz"
      }
    },
    {
      "cell_type": "markdown",
      "source": [
        "> 3. (20 Points) Given a list of integers and a target sum, find the first pair in the list that sums to the target. Can you do this in O(n) time? What is the space complexity of your code?\n",
        "\n",
        "> ```\n",
        "def find_pair(ls, target):\n",
        "   '''\n",
        "   TODO: Write code to return\n",
        "   '''\n",
        "```\n",
        "\n",
        "> E.g.: ls = [-1, 7, 3, 4, 6]; \n",
        "find_pair(ls, 10) -> (7, 3)\n",
        "find_pair(ls, 4) -> None\n",
        "\n",
        "\n"
      ],
      "metadata": {
        "id": "-i79jnW2HhyB"
      }
    },
    {
      "cell_type": "markdown",
      "source": [
        "**Time Complexity:** The time complexity of the code is O(n) since we are trying to insert each element of the list ls into a map. \n",
        "\n",
        "**Space Complexity:** The Space complexity of the code is O(n)since local variable **dictr** will use the size of the input list **ls**. "
      ],
      "metadata": {
        "id": "NhY_0Ta8yl6d"
      }
    },
    {
      "cell_type": "code",
      "source": [
        "#define a functin find_pair and use hashing algorithm \n",
        "def find_pair(ls, target): \n",
        "    #Create an empty dictionary \n",
        "    dictr= {}\n",
        "\n",
        "    #run a loop to get the pairs from the list \n",
        "    for i, j in enumerate (ls): \n",
        "        #check if the pair (j, target-j) is equal to the target \n",
        "          if target - j in dictr:\n",
        "            print((ls[dictr.get(target - j)], ls[i]))\n",
        "            return\n",
        " \n",
        "        # store the index of the current element in the dictionary\n",
        "          dictr[j] = i\n",
        " \n",
        "    # if no pair is equal to the taregt sum then \n",
        "    print('None')\n",
        " "
      ],
      "metadata": {
        "id": "rccsY1m514tq"
      },
      "execution_count": null,
      "outputs": []
    },
    {
      "cell_type": "code",
      "source": [
        "ls = [-1,7,3,4,2,8,6]\n",
        "target = 10\n",
        "find_pair(ls, target)\n"
      ],
      "metadata": {
        "id": "LvfJVdPQ3PMx",
        "colab": {
          "base_uri": "https://localhost:8080/"
        },
        "outputId": "4af92b49-ecd5-4ac8-8bca-bbed1a80926c"
      },
      "execution_count": null,
      "outputs": [
        {
          "output_type": "stream",
          "name": "stdout",
          "text": [
            "(7, 3)\n"
          ]
        }
      ]
    },
    {
      "cell_type": "markdown",
      "source": [
        "> 4. (30 Points) *Group Anagrams*: Given a list of words, count how many sets of anagrams exist between them. What is the Big(O) time and space complexity of your function. Assume a list size of N, and that the longest string is of size K.\n",
        "- E.g.:\n",
        "words = ['top', 'silt', 'silent', 'listen', 'list', 'slit', 'pot', 'rope']\n",
        "\n",
        "> > group_anagrams(words) -> [['top', 'pot'], ['silt', 'list', 'slit'], ['silent', 'listen'], ['rope']]\n"
      ],
      "metadata": {
        "id": "v88ER3SAzCDl"
      }
    },
    {
      "cell_type": "markdown",
      "source": [
        "###Method-1 \n",
        "**Time Complexity:** Here we can see that in the for loop, every word has maximum K characters and total number of words are N in the list so the upper bound of time complexity: O(NK) \n",
        "\n",
        "\n",
        " **Space Complexity:**  Here each word has maximum K characters thus storage space for each word would be K. There are N words in the list with maximum K characters then we can say that total storage occupied by local variable 'word' would be O(NK). \n",
        "\n",
        " "
      ],
      "metadata": {
        "id": "cWlaSlKw-m3Y"
      }
    },
    {
      "cell_type": "code",
      "source": [
        "#import counter and defaultdict from collections \n",
        "from collections import Counter, defaultdict\n",
        "#We define the \n",
        "Words =  ['top', 'silt', 'silent', 'listen', 'list', 'slit', 'pot', 'rope']\n",
        "\n",
        "def Anagrams(words: list) -> list:\n",
        "\t  # defaultdict will create a new list if the key is not found in the dictionary\n",
        "\t  Grouped_Anagrams= defaultdict(list)\n",
        "\n",
        "\t# loop over all the words\n",
        "\t  for word in words:\n",
        "\t\t# Counter('cat') :\n",
        "\t\t# counts the frequency of the characters present in a string\n",
        "\t\t# >>> Counter({'c': 1, 'a': 1, 't': 1})\n",
        "\n",
        "\t\t# frozenset(dict(Counter('cat')).items()) :\n",
        "\t\t# frozenset takes an iterable object as input and makes them immutable.\n",
        "\t\t# So that hash(frozenset(Counter('cat'))) is equal to\n",
        "\t\t# hash of other 'cat' anagrams\n",
        "\t\t# >>> frozenset({('c', 1), ('a', 1), ('t', 1)})\n",
        "\t      Grouped_Anagrams[frozenset(dict(Counter(word)).items())].append(word)\n",
        "\t  return [v for k, v in Grouped_Anagrams.items()]\n",
        " "
      ],
      "metadata": {
        "id": "EKTh31axCgr_"
      },
      "execution_count": null,
      "outputs": []
    },
    {
      "cell_type": "code",
      "source": [
        "print(Anagrams(Words))"
      ],
      "metadata": {
        "id": "uFIGsdl-EzaM",
        "colab": {
          "base_uri": "https://localhost:8080/"
        },
        "outputId": "430e8814-0c8f-4bdd-d2c9-9d96a2af45fd"
      },
      "execution_count": null,
      "outputs": [
        {
          "output_type": "stream",
          "name": "stdout",
          "text": [
            "[['top', 'pot'], ['silt', 'list', 'slit'], ['silent', 'listen'], ['rope']]\n"
          ]
        }
      ]
    },
    {
      "cell_type": "markdown",
      "source": [
        "####Other Method to solve the same problem "
      ],
      "metadata": {
        "id": "AndDJ59r-0tH"
      }
    },
    {
      "cell_type": "code",
      "source": [
        "#to solve the above we can use a python library \n",
        "from collections import defaultdict \n",
        "\n",
        "def GroupAnagrams(words):\n",
        "    Grouped_Anagrams= defaultdict(list)\n",
        " \n",
        "    # Put all anagram words together in a dictionary\n",
        "    for word in words:\n",
        "        Grouped_Anagrams[\"\".join(sorted(word))].append(word)\n",
        " \n",
        "    # Print all anagrams together\n",
        "    for group in Grouped_Anagrams.values():\n",
        "        print(\" \".join(group))\n",
        "if __name__ == \"__main__\":\n",
        "     Words =  ['top', 'silt', 'silent', 'listen', 'list', 'slit', 'pot', 'rope']\n",
        "     GroupAnagrams(Words)\n",
        "         "
      ],
      "metadata": {
        "id": "QuVYYNdm-L7r",
        "colab": {
          "base_uri": "https://localhost:8080/"
        },
        "outputId": "69915161-9ec7-4418-b590-6c8586602373"
      },
      "execution_count": null,
      "outputs": [
        {
          "output_type": "stream",
          "name": "stdout",
          "text": [
            "top pot\n",
            "silt list slit\n",
            "silent listen\n",
            "rope\n"
          ]
        }
      ]
    },
    {
      "cell_type": "markdown",
      "source": [
        "  Time Complexity:  "
      ],
      "metadata": {
        "id": "tpm2cyZnLz43"
      }
    },
    {
      "cell_type": "markdown",
      "source": [
        "Time Complexity: \n",
        "Space Complexity: "
      ],
      "metadata": {
        "id": "l2Ig0Oem_zZh"
      }
    },
    {
      "cell_type": "markdown",
      "source": [
        "5. (20 Points) [Bonus] *product_without_me*: Given a list of numbers, return a list containing product of all other numbers in the list, excluding the current one. This must be done in O(N) time and O(1) space, where N is the size of list.\n",
        "E.g.: \n",
        "- product_without_me([1, 5, 3, 2]) = [30, 6, 10, 15]\n",
        "- product_without_me([12, 0, 1, -2]) = [0, -24, 0, 0]"
      ],
      "metadata": {
        "id": "i-YUjIJYzCdx"
      }
    },
    {
      "cell_type": "code",
      "source": [
        "def product_without_me(list):\n",
        "    #initializing the result array with all inputs filled as 1 and same size of list \n",
        "    result = [1 for i in range(len(list))]\n",
        "    # Now calculate the left side of the array by leaving left most element in the list \n",
        "    for i in range(1,len(result)):\n",
        "        result[i] = result[i-1]*list[i-1]\n",
        "    #to calculate the right side of the array using the temp variable \n",
        "    temp = 1 #define a temp variable \n",
        "    #to calculate the right side, we start from the last index of the result array and multiply with temp variable \n",
        "    for i in range(len(result)-1, -1, -1):\n",
        "        result[i] = result[i]*temp\n",
        "        temp *=list[i]\n",
        "    return result"
      ],
      "metadata": {
        "id": "bC032smPBHXR"
      },
      "execution_count": null,
      "outputs": []
    },
    {
      "cell_type": "code",
      "source": [
        "product_without_me([1, 5, 3, 2]) "
      ],
      "metadata": {
        "colab": {
          "base_uri": "https://localhost:8080/"
        },
        "id": "qlWg2AMHtV1a",
        "outputId": "cb0d9032-d4de-4e55-934a-0d138c08b62f"
      },
      "execution_count": null,
      "outputs": [
        {
          "output_type": "execute_result",
          "data": {
            "text/plain": [
              "[30, 6, 10, 15]"
            ]
          },
          "metadata": {},
          "execution_count": 6
        }
      ]
    },
    {
      "cell_type": "markdown",
      "source": [
        "**Time Complexity:** Time complexity of the above code is O(N) where N is the size of the list. \n",
        "  \n",
        " **Space Complexity:** We are not using any extra data structures in the computation so it is O(1)."
      ],
      "metadata": {
        "id": "AhC-GWDGpYxL"
      }
    }
  ]
}
