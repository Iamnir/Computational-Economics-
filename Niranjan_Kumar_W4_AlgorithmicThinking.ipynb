{
  "cells": [
    {
      "cell_type": "markdown",
      "metadata": {
        "id": "view-in-github",
        "colab_type": "text"
      },
      "source": [
        "<a href=\"https://colab.research.google.com/github/Iamnir/Computational-Economics-/blob/main/Niranjan_Kumar_W4_AlgorithmicThinking.ipynb\" target=\"_parent\"><img src=\"https://colab.research.google.com/assets/colab-badge.svg\" alt=\"Open In Colab\"/></a>"
      ]
    },
    {
      "cell_type": "markdown",
      "metadata": {
        "id": "dcde_X93ahzo"
      },
      "source": [
        "> © 2022, Kush Khurana (mailto: kush.khurana@ashoka.edu.in). \n",
        "> - Licensed under CC BY-NC-SA 4.0 Creative Commons (Attribution-NonCommercial-ShareAlike 4.0 International)"
      ]
    },
    {
      "cell_type": "markdown",
      "metadata": {
        "id": "uzqVUvU5PZ9U"
      },
      "source": [
        "# What is Algorithmic Thinking?\n",
        "\n",
        "> *As always, let's figure out key concepts by playing around with examples*"
      ]
    },
    {
      "cell_type": "markdown",
      "metadata": {
        "id": "8zDzKOsGelXn"
      },
      "source": [
        "> **Count Neutralizing Pairs**\n",
        "\n",
        "> *Given a list of distinct integers, write a function 'count_neutralizing_pairs' that finds the number of pairs that sum to 0.*"
      ]
    },
    {
      "cell_type": "code",
      "execution_count": null,
      "metadata": {
        "id": "VNdhqVyietdR"
      },
      "outputs": [],
      "source": [
        "#Solution 1 (from one of the students)\n",
        "\n",
        "def count_neutralizing_pairs_s1(list1):   #Defining the function\n",
        "  i = 0\n",
        "  count = 0\n",
        "  length = len(list1)\n",
        "\n",
        "  \"\"\"In the folowing two nested loops, I pick a value from list, and then in second loop\n",
        "  I run it from i+1th position till the end to find any pair that sums to zero. If any pair exists,\n",
        "  I also update my count of such pairs\"\"\"\n",
        "  while i<length:                              \n",
        "    j = i+1\n",
        "    while j<length:\n",
        "      total = list1[i] + list1[j]\n",
        "      if total == 0:\n",
        "        count = count+1\n",
        "      j = j+1\n",
        "    i=i+1\n",
        "  return count"
      ]
    },
    {
      "cell_type": "markdown",
      "metadata": {
        "id": "2_XS_H5TQipR"
      },
      "source": [
        "## Key Characteristics \n",
        "> - There is an input(I) and a desired output(O). \n",
        "> - There could be a couple of I->O examples provided to articulate the problem, however, the challenge is to **correctly** get the desired output in *all* circumstances (i.e., for all kinds of inputs).\n",
        "> - And do so **efficiently** using the *given computational resources* (we'll come back to this point later in greater detail)"
      ]
    },
    {
      "cell_type": "markdown",
      "metadata": {
        "id": "eEZybN2IS9ya"
      },
      "source": [
        "## Ensuring Correctness\n",
        "\n",
        "> How did you do check the correctness of your code in the assignments?\n",
        "\n"
      ]
    },
    {
      "cell_type": "code",
      "execution_count": null,
      "metadata": {
        "colab": {
          "base_uri": "https://localhost:8080/"
        },
        "id": "bivVIfy-PcuW",
        "outputId": "0e2de1c8-3d3e-4662-dc05-fb02a6768f65"
      },
      "outputs": [
        {
          "output_type": "execute_result",
          "data": {
            "text/plain": [
              "1"
            ]
          },
          "metadata": {},
          "execution_count": 118
        }
      ],
      "source": [
        "ls = [0,5,2,7,-2]\n",
        "count_neutralizing_pairs_s1(ls)"
      ]
    },
    {
      "cell_type": "code",
      "execution_count": null,
      "metadata": {
        "colab": {
          "base_uri": "https://localhost:8080/"
        },
        "id": "UgV6SM33ZYBs",
        "outputId": "258a1301-6b74-447f-faf5-49bfddd9c252"
      },
      "outputs": [
        {
          "output_type": "stream",
          "name": "stdout",
          "text": [
            "Testing for: [0, 5, 2, 7, -2] -> 1\n"
          ]
        }
      ],
      "source": [
        "print(f'Testing for: {ls} -> 1')\n",
        "assert count_neutralizing_pairs_s1(ls) == 1"
      ]
    },
    {
      "cell_type": "markdown",
      "metadata": {
        "id": "W7JU0t8APkQu"
      },
      "source": [
        "> Is this enough?"
      ]
    },
    {
      "cell_type": "code",
      "execution_count": null,
      "metadata": {
        "id": "RzziVrLvXATR"
      },
      "outputs": [],
      "source": [
        "# So let's write extensive test cases\n",
        "def test_count_neutralizing_pairs(func_to_test, sample_io):\n",
        "  for i, o in sample_io:\n",
        "    print(f'Testing for: {i} -> {o}')\n",
        "    assert func_to_test(i) == o\n",
        "  \n",
        "  # If here => No AssertionError raised..\n",
        "  print (\"This Works :) .. All tests passed!\")\n",
        "  return True"
      ]
    },
    {
      "cell_type": "code",
      "execution_count": null,
      "metadata": {
        "id": "KlvweNdEY4Az"
      },
      "outputs": [],
      "source": [
        "sample_io = [([0, 5, 2, 7, -2], 1),\n",
        "             ([9, 3, 5, 4], 0),\n",
        "             ([1, -1, 6, -6], 2),\n",
        "             ([0, 1, -1], 1),\n",
        "             ([0], 0)\n",
        "            ]\n"
      ]
    },
    {
      "cell_type": "code",
      "execution_count": null,
      "metadata": {
        "colab": {
          "base_uri": "https://localhost:8080/"
        },
        "id": "GKhhBW3FaVDi",
        "outputId": "79562d21-0df5-4ed5-82e7-1a285714605b"
      },
      "outputs": [
        {
          "output_type": "stream",
          "name": "stdout",
          "text": [
            "Testing for: [0, 5, 2, 7, -2] -> 1\n",
            "Testing for: [9, 3, 5, 4] -> 0\n",
            "Testing for: [1, -1, 6, -6] -> 2\n",
            "Testing for: [0, 1, -1] -> 1\n",
            "Testing for: [0] -> 0\n",
            "This Works :) .. All tests passed!\n"
          ]
        },
        {
          "output_type": "execute_result",
          "data": {
            "text/plain": [
              "True"
            ]
          },
          "metadata": {},
          "execution_count": 122
        }
      ],
      "source": [
        "test_count_neutralizing_pairs(count_neutralizing_pairs_s1, sample_io)"
      ]
    },
    {
      "cell_type": "markdown",
      "metadata": {
        "id": "v9ZxfZChaWIe"
      },
      "source": [
        "> Is it enough? Can we ever test all cases? \n",
        "> - *The case for Mathematical Proof of Correctness ...*\n",
        "\n",
        "> So can you prove the correctness of above function, mathematically. \n",
        "> - *Hint: Remember Principal of Mathematical Induction?* "
      ]
    },
    {
      "cell_type": "code",
      "execution_count": null,
      "metadata": {
        "id": "8CL4FxFqzjve"
      },
      "outputs": [],
      "source": [
        "#proved for k=1  => for all uni-element lists, the function works perfectly\n",
        "\n",
        "# Assume for all lists of size k=n, function gives you the correct, i.e., ['x1', 'x2', 'x3' ....... , 'xn']  --> working\n",
        "\n",
        "# Prove that the function would return the correct count for all k+1 -sized lists\n",
        "# ['x1', 'x2', 'x3' ...... , 'xn', 'xn+1']  --> prove this\n",
        "\n"
      ]
    },
    {
      "cell_type": "markdown",
      "metadata": {
        "id": "u__Y0Tj-bUQO"
      },
      "source": [
        "## Practical note: *Idiot Proofness*"
      ]
    },
    {
      "cell_type": "markdown",
      "metadata": {
        "id": "UOnQ80cMjUDo"
      },
      "source": [
        "# Efficiency"
      ]
    },
    {
      "cell_type": "markdown",
      "metadata": {
        "id": "2iWMvJoBjgoP"
      },
      "source": [
        "## Time & Space Complexity: Why do we care?\n",
        "> Discussed towards the end of lecture"
      ]
    },
    {
      "cell_type": "markdown",
      "metadata": {
        "id": "jthHvIlSdJ9J"
      },
      "source": [
        "## Read before next lecture:\n",
        "\n",
        "> - [Introduction to Asymptotic Analysis and Big O](https://www.educative.io/courses/data-structures-coding-interviews-cpp/qVQq0WLjO3p) (Enough for this course, must grasp this before next week's lecture)\n",
        "\n",
        "> - [More on Asymptotic Analysis, beyond Big O](https://www.cs.cornell.edu/courses/cs312/2004fa/lectures/lecture16.htm) (Optional, For those interested)\n"
      ]
    },
    {
      "cell_type": "markdown",
      "metadata": {
        "id": "oXaDTFpQeyak"
      },
      "source": [
        "# Exercises \n",
        "\n",
        "> *Note 1*: This is an exercise in algorithmic thinking, to help you train yourself. So wherever indicated, some inbuilt python functions are not allowed.\n",
        "\n",
        "> *Note 2*: While the deadline is after the next lecture, I encourage you to at least to think about first two questions **before the next lecture**. At least think about it, and come prepared with some pseudo-code on paper. This will help you get the best out of the coming lecture\n",
        "\n",
        "> *Note 3*: Correct code gets full credit, efficiency not important in this assignment)\n",
        "\n",
        "\n",
        "\n",
        "---\n",
        "\n",
        "\n",
        "\n",
        "1. (10 points) Given a string, write a function to reverse it, **without** using the inbuilt *reverse/reversed* functions, i.e., write your own while/for loop(s) to accomplish this. \n",
        "\n",
        "2. (10 points) Given a list of integers, write a function to sort it, **without** using the inbuilt *sort/sorted* functions, i.e., write your own while/for loop(s) to accomplish this. \n",
        "\n",
        "3. (20 points) Given two strings a and b, check if they are permutations of each other: \n",
        "  1.   Write a function check_perm(a, b) that returns True/False. E.g.:\n",
        "  > check_perm(\"listen\", \"silent\") --> True\n",
        "  > check_perm(\"bat\", \"tab\") --> True\n",
        "  > check_perm(\"economics\", \"comics\") --> False\n",
        "  2.   Write extensive test cases (covering extreme enough scenarios to be sure) and a create a test function.\n",
        " \n",
        "4. (20 points) Given two sorted lists, write a function to merge them resulting into a final sorted list. Write extensive test cases  and a test function to test your code E.g.: merge([5, 9, 15], [-1, 7]) --> [-1, 5, 7, 9, 15] .\n",
        "\n",
        "5. (20 points) Given a natural number n, write a function find_factors to find all its non-trivial factors (i.e., ignore 1 and n) .\n",
        "E.g.: find_factors(45) --> 3, 5, 9, 15\n",
        "\n",
        "6. (20 points) Given a list of integers and a positive number ‘p’ find the maximum sum of any contiguous subarray of size ‘p’. \n",
        "E.g.: max_cont_sum_p([1, -3, 15, 2, -7, 2, 10, 2, -5, 11], 3) --> 14 \n",
        "\n",
        "7. (BONUS!, upto 40 points) Given a list of integers find the maximum sum of any contiguous subarray: \n",
        "> - 10 points if you can get a correct solution\n",
        "> - +10 more if you can get an O(n^2) solution\n",
        "> - +20 more if you can get an O(n) solution\n",
        "E.g.: max_cont_sum([1, -3, 15, 2, -7, 2, 10, 2, -5, 11]) --> 30\n",
        "\n",
        "\n"
      ]
    },
    {
      "cell_type": "markdown",
      "metadata": {
        "id": "nSzlIAwk-IPv"
      },
      "source": [
        "# Solution "
      ]
    },
    {
      "cell_type": "markdown",
      "metadata": {
        "id": "Li4eyGsl-WsY"
      },
      "source": [
        "##Question 1. \n",
        "  "
      ]
    },
    {
      "cell_type": "code",
      "execution_count": null,
      "metadata": {
        "colab": {
          "base_uri": "https://localhost:8080/"
        },
        "id": "kqXXgzo8-OF3",
        "outputId": "2d91eedf-cee3-477a-b341-f9ff2dc34c4e"
      },
      "outputs": [
        {
          "output_type": "stream",
          "name": "stdout",
          "text": [
            "Enter the string input:iamhr\n",
            "The entered string is iamhr\n",
            "The reversed string is : rhmai\n"
          ]
        }
      ],
      "source": [
        "#define a function to return a string \n",
        "def reverse_string (string): \n",
        "    #new list to save the reverse \n",
        "    string1 = '' \n",
        "    for i in  string:\n",
        "      #using concatenation to reverse the string \n",
        "        string1 = i+string1\n",
        "    return string1 \n",
        "#take user input and call the function reverse_string \n",
        "try: \n",
        "    string = str(input('Enter the string input:'))\n",
        "    print(\"The entered string is\", string)\n",
        "    print(\"The reversed string is :\", reverse_string(string))\n",
        "#if the input is not a string \n",
        "except ValueError: \n",
        "    print(\"The entered string input is not correct.\")\n"
      ]
    },
    {
      "cell_type": "markdown",
      "metadata": {
        "id": "d7F0YVPQ7qN8"
      },
      "source": [
        "Test-cases to check the function \n"
      ]
    },
    {
      "cell_type": "code",
      "execution_count": null,
      "metadata": {
        "colab": {
          "base_uri": "https://localhost:8080/"
        },
        "id": "jnxeI3kFhtzo",
        "outputId": "a0f3b924-e584-4b5b-a503-41f5d9956fa5"
      },
      "outputs": [
        {
          "output_type": "stream",
          "name": "stdout",
          "text": [
            "Testing for: iamhr -> rhmai\n",
            "Testing for: neutral -> lartuen\n",
            "This Works and .. All tests passed!\n"
          ]
        },
        {
          "output_type": "execute_result",
          "data": {
            "text/plain": [
              "True"
            ]
          },
          "metadata": {},
          "execution_count": 125
        }
      ],
      "source": [
        "#define a function to test the reverse_string function and parse two arguments; function to test and cases where we need to test. \n",
        "def test_reverse_string(func_to_test, sample_io):\n",
        "  for i, o in sample_io:\n",
        "    print(f'Testing for: {i} -> {o}')\n",
        "    assert func_to_test(i) == o\n",
        "  # If here => No AssertionError raised..\n",
        "  print (\"This Works and .. All tests passed!\")\n",
        "  return True\n",
        "#test cases and call the function   \n",
        "sample_io= [('iamhr', 'rhmai'), ('neutral', 'lartuen')]\n",
        "test_reverse_string(reverse_string, sample_io)"
      ]
    },
    {
      "cell_type": "markdown",
      "metadata": {
        "id": "ehs6klI5jYqu"
      },
      "source": [
        "##Question 2\n"
      ]
    },
    {
      "cell_type": "code",
      "execution_count": null,
      "metadata": {
        "colab": {
          "base_uri": "https://localhost:8080/"
        },
        "id": "NSkXhrFAjXnJ",
        "outputId": "9da0a14e-6a1b-4cd3-f639-db2833000d03"
      },
      "outputs": [
        {
          "output_type": "stream",
          "name": "stdout",
          "text": [
            "39 \n",
            "2837\n",
            "2828\n",
            "2020\n",
            "-889\n",
            "-90\n",
            "2828\n",
            "\n",
            "The list of integers: [39, 2837, 2828, 2020, -889, -90, 2828]\n",
            "The sorted list of integers: [-889, -90, 39, 2020, 2828, 2828, 2837]\n"
          ]
        }
      ],
      "source": [
        "#define a function to sort a list of integers. \n",
        "#import randint since we are going to select a random number from the list. \n",
        "from random import randint\n",
        "#define the function and name it sorting_integers \n",
        "def sorting_integers(list):\n",
        "    #In case of unit length array, we don't need to sort it. \n",
        "    if len(list)<2: \n",
        "        return list \n",
        "    #create three variables as lists \n",
        "    less, equal, higher = [],[],[]\n",
        "    #save a random integer from the list to the new variable pivot. \n",
        "    pivot = list[randint(0,len(list)-1)]\n",
        "    #Now check the entire list using the loop and relational operators.\n",
        "    #if the number i is less than the pivot(above)then save in the list less. \n",
        "    #if the number i is same in the magnitude relative to pivot then save in the equal.\n",
        "    #if the number i is more in the magnitude than the pivot then save in the higher. \n",
        "    #return the entire list\n",
        "    for i in list: \n",
        "         if i < pivot: \n",
        "            less.append(i)\n",
        "         elif i == pivot:\n",
        "            equal.append(i)\n",
        "         elif i >pivot: \n",
        "            higher.append(i)\n",
        "    return sorting_integers(less)+ equal+ sorting_integers(higher)\n",
        "    \n",
        "#user input will only append integers in the list.         \n",
        "try: \n",
        "   list = []\n",
        "   while True: \n",
        "         list.append(int(input()))\n",
        "except: \n",
        "   print(\"The list of integers:\", list)\n",
        "print(\"The sorted list of integers:\", sorting_integers(list))\n",
        "#As you can see in the code if user inputs a string or character then it will not save in the list. The list is taking only integers. "
      ]
    },
    {
      "cell_type": "markdown",
      "metadata": {
        "id": "UuCUMjzpAFij"
      },
      "source": [
        "##Question 3. "
      ]
    },
    {
      "cell_type": "code",
      "execution_count": null,
      "metadata": {
        "id": "v6vT1d633Xvz"
      },
      "outputs": [],
      "source": [
        "#define a function to check the permutation \n",
        "def check_perm(a, b): \n",
        "   #if the strings don't have same length then they ain't permutation of each other. \n",
        "    if len(a)!= len(b): \n",
        "       return False \n",
        "    #Since two strings are permutation then both have same characters. \n",
        "    #Sort both string alphabetically and save it. \n",
        "    a, b = sorted(a), sorted(b)\n",
        "    for i in range(len(a)):\n",
        "        if a[i] != b[i]: \n",
        "           return False \n",
        "        i = i+1 \n",
        "    return True \n"
      ]
    },
    {
      "cell_type": "markdown",
      "source": [
        "Test-Case "
      ],
      "metadata": {
        "id": "AMb2GmixA2-J"
      }
    },
    {
      "cell_type": "code",
      "execution_count": null,
      "metadata": {
        "id": "M5YRTg2QQVGc",
        "colab": {
          "base_uri": "https://localhost:8080/"
        },
        "outputId": "27f7d893-429e-4a1f-e9c0-c2fa83f27a38"
      },
      "outputs": [
        {
          "output_type": "stream",
          "name": "stdout",
          "text": [
            "Testing for: ('listen', 'silent') -> True\n",
            "Testing for: ('bat', 'tab') -> True\n",
            "Testing for: ('economics', 'comics') -> False\n",
            "Testing for: ('Mathematica', 'acitamtaMeh') -> True\n",
            "Testing for: ('libera8', '8brail') -> False\n",
            "Testing for: ('9908', '8091') -> False\n",
            "The code Works and .. All tests passed!\n"
          ]
        }
      ],
      "source": [
        "#Test Cases for function check_perm \n",
        "def test_check_perm(func_to_test, sample_io):\n",
        "  for i, o in sample_io:\n",
        "    print(f'Testing for: {i} -> {o}')\n",
        "    assert func_to_test(i[0],i[1]) == o\n",
        "  # If here => No AssertionError raised..\n",
        "  print (\"The code Works and .. All tests passed!\")\n",
        "    \n",
        "#Extensive cases and call the function   \n",
        "sample_io= [((\"listen\", \"silent\"), True),((\"bat\", \"tab\"), True), ((\"economics\", \"comics\"),False), ((\"Mathematica\", \"acitamtaMeh\"), True), ((\"libera8\", \"8brail\"),False), ((\"9908\", \"8091\"),False)]\n",
        "test_check_perm(check_perm, sample_io)"
      ]
    },
    {
      "cell_type": "markdown",
      "metadata": {
        "id": "cgsciqkZQbbK"
      },
      "source": [
        "##Question 4. \n"
      ]
    },
    {
      "cell_type": "markdown",
      "metadata": {
        "id": "4NQKz84tWG8M"
      },
      "source": [
        "Solution 1. Using in-built functions. It's the simplest solution to get a final sorted list after combining two given sorted lists.  "
      ]
    },
    {
      "cell_type": "code",
      "execution_count": null,
      "metadata": {
        "colab": {
          "base_uri": "https://localhost:8080/"
        },
        "id": "E9ajVO7zVf9z",
        "outputId": "3f4f9481-b4ab-4469-9095-547376ffb1be"
      },
      "outputs": [
        {
          "output_type": "stream",
          "name": "stdout",
          "text": [
            "First sorted list: [5, 9, 15]\n",
            "Second sorted list: [-1, 7]\n"
          ]
        },
        {
          "output_type": "execute_result",
          "data": {
            "text/plain": [
              "[-1, 5, 7, 9, 15]"
            ]
          },
          "metadata": {},
          "execution_count": 155
        }
      ],
      "source": [
        "#This is quite clean and simple solution but we are using in-built functions here. \n",
        "def merge_list1(list1, list2): \n",
        "    print(\"First sorted list:\", sorted(list1))\n",
        "    print(\"Second sorted list:\", sorted(list2))\n",
        "    merged_list = sorted(list1+list2) \n",
        "    return merged_list\n",
        "\n",
        "list1 = [5, 9, 15]\n",
        "list2 = [-1, 7]\n",
        "merge_list1(list1, list2)"
      ]
    },
    {
      "cell_type": "markdown",
      "metadata": {
        "id": "XWnYmKUGWf0M"
      },
      "source": [
        "Solution 2. Here I am not using in-built function sorted. The goal is to \n",
        "return the final sorted list after merging two given lists. \n",
        "\n"
      ]
    },
    {
      "cell_type": "code",
      "execution_count": null,
      "metadata": {
        "colab": {
          "base_uri": "https://localhost:8080/"
        },
        "id": "bBWOxA4DQa81",
        "outputId": "0dc02c96-4d8f-4375-a1e1-41d56c3e48cf"
      },
      "outputs": [
        {
          "output_type": "execute_result",
          "data": {
            "text/plain": [
              "[-1, 5, 9, 15, 7]"
            ]
          },
          "metadata": {},
          "execution_count": 172
        }
      ],
      "source": [
        "#This function doesn't use in-built function sorted to merge two sorted lists. \n",
        "def merge_list2(list1, list2): \n",
        "    for x in list2: \n",
        "        list1.append(x)\n",
        "    list = list1\n",
        "    #In case of unit length array, we don't need to sort it. \n",
        "    if len(list)<2: \n",
        "        return list\n",
        "    #create three variables as lists \n",
        "    less, equal, higher= [],[],[]\n",
        "    #save a random integer from the list to the new variable pivot. \n",
        "    pivot = list[randint(0,len(list)-1)]\n",
        "    #Now check the entire list using the loop and relational operators.\n",
        "    #if the number i is less than the pivot(above)then save in the list less. \n",
        "    #if the number i is same in the magnitude relative to pivot then save in the equal.\n",
        "    #if the number i is more in the magnitude than the pivot then save in the higher. \n",
        "    #return the entire list\n",
        "    for i in list: \n",
        "        if i < pivot: \n",
        "           less.append(i)\n",
        "        elif i == pivot:\n",
        "           equal.append(i)\n",
        "        elif i > pivot: \n",
        "           higher.append(i) \n",
        "    merged_list = less + equal+higher \n",
        "    return merged_list\n",
        "merge_list2([5, 9, 15], [-1, 7]) \n"
      ]
    },
    {
      "cell_type": "markdown",
      "source": [
        "Extensive Test Cases: \n",
        "\n",
        "    The test cases include some of the wrong inputs such as integers as strings. Test case function deals with the datatype if the user inputs are wrong. "
      ],
      "metadata": {
        "id": "nMmej6oPYCmi"
      }
    },
    {
      "cell_type": "code",
      "source": [
        "#to check the function with extensive test-cases \n",
        "def test_merge_sorted_list(func_to_test, sample_io):\n",
        "    for i, o in sample_io:\n",
        "      for j in range(len(i[0])): \n",
        "          i[0][j] = int(i[0][j])\n",
        "      for j in range(len(i[1])): \n",
        "          i[1][j] = int(i[1][j])\n",
        "      for j in range(len(o)): \n",
        "          o[j]    =  int(o[j])\n",
        "      print(f'Testing for: {i} -> {o}')\n",
        "      assert func_to_test(i[0],i[1]) == o\n",
        "  # If here => No AssertionError raised..\n",
        "      print(f'The final sorted list after merge: {o}')\n",
        "      print (\"The code Works and .. All tests passed!\")\n",
        "    \n",
        "#Extensive cases and call the function   \n",
        "#Here my input is a string so if user puts inputs wrong still it can give the result. \n",
        "sample_io= [(([5, 9, 15],[-1, 7]),[-1, '5', 7, 9, 15]), ((['9', 9, 15],[-1, 7]),[-1, 7,9, 9, 15]), ((['9', 9, 15, 30, -45 ],[-1,10, '22', 7]),[-45, -1, 7,9, 9,10,15,22, 30])]\n",
        "test_merge_sorted_list(merge_list1, sample_io)\n",
        "# We can also check the same using second function. Remove # below to check the same. \n",
        "#test_merge_sorted_list(merge_list2, sample_io)\n",
        "\n"
      ],
      "metadata": {
        "id": "l8ctj3cd3fE0",
        "colab": {
          "base_uri": "https://localhost:8080/"
        },
        "outputId": "3cb33bfe-61b1-4f69-e3f3-e52d6ebfe46d"
      },
      "execution_count": null,
      "outputs": [
        {
          "output_type": "stream",
          "name": "stdout",
          "text": [
            "Testing for: ([5, 9, 15], [-1, 7]) -> [-1, 5, 7, 9, 15]\n",
            "First sorted list: [5, 9, 15]\n",
            "Second sorted list: [-1, 7]\n",
            "The final sorted list after merge: [-1, 5, 7, 9, 15]\n",
            "The code Works and .. All tests passed!\n",
            "Testing for: ([9, 9, 15], [-1, 7]) -> [-1, 7, 9, 9, 15]\n",
            "First sorted list: [9, 9, 15]\n",
            "Second sorted list: [-1, 7]\n",
            "The final sorted list after merge: [-1, 7, 9, 9, 15]\n",
            "The code Works and .. All tests passed!\n",
            "Testing for: ([9, 9, 15, 30, -45], [-1, 10, 22, 7]) -> [-45, -1, 7, 9, 9, 10, 15, 22, 30]\n",
            "First sorted list: [-45, 9, 9, 15, 30]\n",
            "Second sorted list: [-1, 7, 10, 22]\n",
            "The final sorted list after merge: [-45, -1, 7, 9, 9, 10, 15, 22, 30]\n",
            "The code Works and .. All tests passed!\n"
          ]
        }
      ]
    },
    {
      "cell_type": "markdown",
      "source": [
        "##Question 5.    "
      ],
      "metadata": {
        "id": "HF5DltLx3fqP"
      }
    },
    {
      "cell_type": "code",
      "source": [
        "#find all non trivial factors of a number \n",
        "def find_factors(number):\n",
        "    #create a list variable to save all non trivial factors. \n",
        "    non_trivial_factors =[]\n",
        "    i =2\n",
        "    #Since we don't want to include 1 and the number itself then we can start to check all the number between 2 and number-2. \n",
        "    while i < number: \n",
        "        if number%i ==0: \n",
        "           non_trivial_factors.append(i)\n",
        "        i += 1\n",
        "    return non_trivial_factors\n",
        "    \n",
        "#Test the function \n",
        "find_factors(45)"
      ],
      "metadata": {
        "colab": {
          "base_uri": "https://localhost:8080/"
        },
        "id": "27smZwim_Gcb",
        "outputId": "c7d534bc-2a44-427e-b352-e1d61f24ef66"
      },
      "execution_count": null,
      "outputs": [
        {
          "output_type": "execute_result",
          "data": {
            "text/plain": [
              "[3, 5, 9, 15]"
            ]
          },
          "metadata": {},
          "execution_count": 133
        }
      ]
    },
    {
      "cell_type": "markdown",
      "source": [
        "##Question 6. "
      ],
      "metadata": {
        "id": "lZbVAMjOCUN8"
      }
    },
    {
      "cell_type": "code",
      "source": [
        "#define a function which takes two arguments, a list and an integer. \n",
        "def max_cont_sum_p(list, p):\n",
        "    n = len(list)\n",
        "    #If the length of subarray is less than size of list then it will just print Excess size of subarray. \n",
        "    if (n<p): \n",
        "      print(\"Invalid size of subarray\")\n",
        "    #Output variable \n",
        "    max_sum = 0 \n",
        "    #sum of first subarray of size p using loop\n",
        "    for i in range(p): \n",
        "        max_sum+= list[i]\n",
        "    #create a local variable for rest subarrays. \n",
        "    max_cont_sum = max_sum\n",
        "    #This loop will remove the first element of the previous subarray and then replace with the next one. For e.g. subarray1 is [1, -3,15] so 1 will be replaced by next element 2. \n",
        "    #Similarly, it will replace next one till the length of p and add the sum. \n",
        "    for i in range(p, n): \n",
        "      max_cont_sum += list[i]-list[i-p]\n",
        "      max_sum =  max(max_sum, max_cont_sum)\n",
        "    return max_sum\n",
        "    \n",
        "#Let's check the code using the given example \n",
        "max_cont_sum_p([1, -3, 15, 2, -7, 2, 10, 2, -5, 11], 3)\n",
        "    \n",
        "    \n"
      ],
      "metadata": {
        "id": "0Yyo_xR5_GmC",
        "colab": {
          "base_uri": "https://localhost:8080/"
        },
        "outputId": "16a3ae5e-11e2-40a3-8f80-1f832b0fc361"
      },
      "execution_count": null,
      "outputs": [
        {
          "output_type": "execute_result",
          "data": {
            "text/plain": [
              "14"
            ]
          },
          "metadata": {},
          "execution_count": 174
        }
      ]
    },
    {
      "cell_type": "markdown",
      "source": [
        ""
      ],
      "metadata": {
        "id": "S5RBUXIOrNnF"
      }
    },
    {
      "cell_type": "markdown",
      "source": [
        "##Question 7. \n"
      ],
      "metadata": {
        "id": "lJY-_kBqVQMj"
      }
    },
    {
      "cell_type": "markdown",
      "source": [
        "Time Complexity - O(n)\n",
        "\n",
        "Algorithm Explanation: Question is asking to find the maximum sum of any contiguous array. \n",
        "\n",
        "    Step1. We assign max_sum and local variable i the first index of the list. \n",
        "    Step2. Now we can run a loop and keep adding numbers from the list whose indices are 1 to n. \n",
        "    Step3. At the same time we can check the maximum betwen i which is also a sum and max_sum. \n",
        "    Step4. It will return the max_sum. "
      ],
      "metadata": {
        "id": "LOtW9LSArHLC"
      }
    },
    {
      "cell_type": "code",
      "source": [
        "def max_subarray_sum(list): \n",
        "    n = len(list)\n",
        "    max_sum = i = list[0]\n",
        "    for x in range(1, n): \n",
        "        i= max(i+list[x], list[x])\n",
        "        max_sum = max(i, max_sum)\n",
        "    return max_sum\n",
        "\n",
        "#check the test-case \n",
        "list1= [1, -3, 15, 2, -7, 2, 10, 2, -5, 11]\n",
        "max_subarray_sum(list1)\n"
      ],
      "metadata": {
        "colab": {
          "base_uri": "https://localhost:8080/"
        },
        "id": "v2DHpZ51YvRn",
        "outputId": "2aed0772-75c5-45a7-82f2-9ef8468c5668"
      },
      "execution_count": null,
      "outputs": [
        {
          "output_type": "execute_result",
          "data": {
            "text/plain": [
              "30"
            ]
          },
          "metadata": {},
          "execution_count": 175
        }
      ]
    },
    {
      "cell_type": "markdown",
      "source": [
        ""
      ],
      "metadata": {
        "id": "Woar5H7EZ994"
      }
    }
  ],
  "metadata": {
    "colab": {
      "collapsed_sections": [],
      "name": "Niranjan_Kumar_W4_AlgorithmicThinking.ipynb",
      "provenance": [],
      "toc_visible": true,
      "include_colab_link": true
    },
    "kernelspec": {
      "display_name": "Python 3",
      "name": "python3"
    },
    "language_info": {
      "name": "python"
    }
  },
  "nbformat": 4,
  "nbformat_minor": 0
}