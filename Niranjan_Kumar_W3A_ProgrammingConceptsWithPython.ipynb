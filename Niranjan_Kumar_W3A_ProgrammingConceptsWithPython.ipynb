{
  "nbformat": 4,
  "nbformat_minor": 0,
  "metadata": {
    "colab": {
      "name": "Niranjan Kumar - W3A_ProgrammingConceptsWithPython.ipynb",
      "provenance": [],
      "toc_visible": true,
      "include_colab_link": true
    },
    "kernelspec": {
      "name": "python3",
      "display_name": "Python 3"
    },
    "language_info": {
      "name": "python"
    }
  },
  "cells": [
    {
      "cell_type": "markdown",
      "metadata": {
        "id": "view-in-github",
        "colab_type": "text"
      },
      "source": [
        "<a href=\"https://colab.research.google.com/github/Iamnir/Computational-Economics-/blob/main/Niranjan_Kumar_W3A_ProgrammingConceptsWithPython.ipynb\" target=\"_parent\"><img src=\"https://colab.research.google.com/assets/colab-badge.svg\" alt=\"Open In Colab\"/></a>"
      ]
    },
    {
      "cell_type": "code",
      "execution_count": null,
      "metadata": {
        "id": "F4KJ4livxlkA",
        "colab": {
          "base_uri": "https://localhost:8080/"
        },
        "outputId": "6a870b1f-9907-4088-9bef-28cea378f054"
      },
      "outputs": [
        {
          "output_type": "stream",
          "name": "stdout",
          "text": [
            "True\n"
          ]
        }
      ],
      "source": [
        "#primitive Data Types\n",
        "#for python : str, float, int, bool \n",
        "a = True \n",
        "b = False\n",
        "print(a)\n"
      ]
    },
    {
      "cell_type": "code",
      "source": [
        "type(b)"
      ],
      "metadata": {
        "colab": {
          "base_uri": "https://localhost:8080/"
        },
        "id": "XLL7I-r4DQnZ",
        "outputId": "d91db2ea-b2c5-4223-b455-b34e8551d79f"
      },
      "execution_count": null,
      "outputs": [
        {
          "output_type": "execute_result",
          "data": {
            "text/plain": [
              "bool"
            ]
          },
          "metadata": {},
          "execution_count": 2
        }
      ]
    },
    {
      "cell_type": "markdown",
      "source": [
        "#List\n",
        "\n"
      ],
      "metadata": {
        "id": "LxpicrhaEOl6"
      }
    },
    {
      "cell_type": "code",
      "source": [
        "bs = [True, False, True]\n",
        "xs = [1.034, 2367,7.89]\n",
        "bs+xs"
      ],
      "metadata": {
        "colab": {
          "base_uri": "https://localhost:8080/"
        },
        "id": "L_qHrJy6DR8D",
        "outputId": "7053f112-5d66-4f7f-8674-79efad57b33e"
      },
      "execution_count": null,
      "outputs": [
        {
          "output_type": "execute_result",
          "data": {
            "text/plain": [
              "[True, False, True, 1.034, 2367, 7.89]"
            ]
          },
          "metadata": {},
          "execution_count": 3
        }
      ]
    },
    {
      "cell_type": "code",
      "source": [
        "for b, x in zip(bs, xs):\n",
        "    if b:\n",
        "      print(x)"
      ],
      "metadata": {
        "colab": {
          "base_uri": "https://localhost:8080/"
        },
        "id": "k_FZ1BbBDl6I",
        "outputId": "7ca9bb88-531f-444e-b0d1-5b3b193b3244"
      },
      "execution_count": null,
      "outputs": [
        {
          "output_type": "stream",
          "name": "stdout",
          "text": [
            "1.034\n",
            "7.89\n"
          ]
        }
      ]
    },
    {
      "cell_type": "code",
      "source": [
        "list(zip(xs,bs))"
      ],
      "metadata": {
        "colab": {
          "base_uri": "https://localhost:8080/"
        },
        "id": "GQ6OEVSUEG77",
        "outputId": "0d9846c6-ab53-4580-aa6f-6ecacbebc6a1"
      },
      "execution_count": null,
      "outputs": [
        {
          "output_type": "execute_result",
          "data": {
            "text/plain": [
              "[(1.034, True), (2367, False), (7.89, True)]"
            ]
          },
          "metadata": {},
          "execution_count": 6
        }
      ]
    },
    {
      "cell_type": "code",
      "source": [
        "for x in xs:\n",
        "  print(x)"
      ],
      "metadata": {
        "colab": {
          "base_uri": "https://localhost:8080/"
        },
        "id": "G4-Vi81BD-xt",
        "outputId": "7a194cf6-7a9e-4ac3-df2f-0caf319f70bb"
      },
      "execution_count": null,
      "outputs": [
        {
          "output_type": "stream",
          "name": "stdout",
          "text": [
            "1.034\n",
            "2367\n",
            "7.89\n"
          ]
        }
      ]
    },
    {
      "cell_type": "markdown",
      "source": [
        "#Set\n"
      ],
      "metadata": {
        "id": "JcOn28kPEUq_"
      }
    },
    {
      "cell_type": "code",
      "source": [
        "xs=[1,2,3,-5,0,9,10,0,4]\n",
        "x= set(xs)\n",
        "print(xs,x)"
      ],
      "metadata": {
        "colab": {
          "base_uri": "https://localhost:8080/"
        },
        "id": "ThZw4ef9EXsm",
        "outputId": "a60afcd1-42ed-416e-8737-0888cff29558"
      },
      "execution_count": null,
      "outputs": [
        {
          "output_type": "stream",
          "name": "stdout",
          "text": [
            "[1, 2, 3, -5, 0, 9, 10, 0, 4] {0, 1, 2, 3, 4, 9, 10, -5}\n"
          ]
        }
      ]
    },
    {
      "cell_type": "code",
      "source": [
        "def check_zero(ls, look_for=0):\n",
        "    for element in ls:\n",
        "       if element==look_for: \n",
        "          return True \n",
        "    return False \n",
        "check_zero(xs)\n",
        "\n"
      ],
      "metadata": {
        "id": "PGxOkPA8GbGR",
        "colab": {
          "base_uri": "https://localhost:8080/"
        },
        "outputId": "39620bfb-4214-49c6-f70c-c287dbe25e6a"
      },
      "execution_count": null,
      "outputs": [
        {
          "output_type": "execute_result",
          "data": {
            "text/plain": [
              "True"
            ]
          },
          "metadata": {},
          "execution_count": 19
        }
      ]
    },
    {
      "cell_type": "code",
      "source": [
        "int(False),int(True)"
      ],
      "metadata": {
        "colab": {
          "base_uri": "https://localhost:8080/"
        },
        "id": "8avcjmmZHldn",
        "outputId": "e38bf38d-1915-4608-8168-f64dc62cb72c"
      },
      "execution_count": null,
      "outputs": [
        {
          "output_type": "execute_result",
          "data": {
            "text/plain": [
              "(0, 1)"
            ]
          },
          "metadata": {},
          "execution_count": 17
        }
      ]
    },
    {
      "cell_type": "code",
      "source": [
        "7.5== True"
      ],
      "metadata": {
        "colab": {
          "base_uri": "https://localhost:8080/"
        },
        "id": "Gx8j_pKaHzNP",
        "outputId": "69ed75dc-5d02-435a-e690-a4ce83e83142"
      },
      "execution_count": null,
      "outputs": [
        {
          "output_type": "execute_result",
          "data": {
            "text/plain": [
              "False"
            ]
          },
          "metadata": {},
          "execution_count": 18
        }
      ]
    },
    {
      "cell_type": "code",
      "source": [
        "y_ls = list(range(10000000))\n",
        "y_set = set(y_ls)"
      ],
      "metadata": {
        "id": "BgnmyFcMiHv0"
      },
      "execution_count": null,
      "outputs": []
    },
    {
      "cell_type": "code",
      "source": [
        "%timeit 9999999 in y_ls"
      ],
      "metadata": {
        "colab": {
          "base_uri": "https://localhost:8080/"
        },
        "id": "LSyTKOzOijC1",
        "outputId": "d93794f8-9a2f-47d5-f5cb-739ccf089f47"
      },
      "execution_count": null,
      "outputs": [
        {
          "output_type": "stream",
          "name": "stdout",
          "text": [
            "10 loops, best of 5: 159 ms per loop\n"
          ]
        }
      ]
    },
    {
      "cell_type": "code",
      "source": [
        "%timeit 0 in y_ls"
      ],
      "metadata": {
        "colab": {
          "base_uri": "https://localhost:8080/"
        },
        "id": "KAdHYRehjE1K",
        "outputId": "c6d11c88-6735-4b26-a465-9bb2f6a0d8de"
      },
      "execution_count": null,
      "outputs": [
        {
          "output_type": "stream",
          "name": "stdout",
          "text": [
            "The slowest run took 30.05 times longer than the fastest. This could mean that an intermediate result is being cached.\n",
            "10000000 loops, best of 5: 52.3 ns per loop\n"
          ]
        }
      ]
    },
    {
      "cell_type": "code",
      "source": [
        "%timeit 0 in y_set"
      ],
      "metadata": {
        "colab": {
          "base_uri": "https://localhost:8080/"
        },
        "id": "vm7LRH-mjPmo",
        "outputId": "4668e2b8-0a5b-4805-9369-68f30cd12f93"
      },
      "execution_count": null,
      "outputs": [
        {
          "output_type": "stream",
          "name": "stdout",
          "text": [
            "The slowest run took 29.22 times longer than the fastest. This could mean that an intermediate result is being cached.\n",
            "10000000 loops, best of 5: 52.6 ns per loop\n"
          ]
        }
      ]
    },
    {
      "cell_type": "code",
      "source": [
        ""
      ],
      "metadata": {
        "id": "vYIg8LXkX7nq"
      },
      "execution_count": null,
      "outputs": []
    },
    {
      "cell_type": "markdown",
      "source": [
        "# Exercises:\n",
        "\n",
        "1.   Longest Winning Streak: Given the string of results (w/l/d) of matches played by India, write a function 'eval_performance' to return the following:\n",
        "\n",
        "*   Overall Win Ratio (10 Points)\n",
        "*   Length of the longest victory streak (10 Points, Bonus)\n",
        "> E.g.: wins = 'wlwwwlwwld' ; eval_performance(wins) ---> (0.6, 3)\n",
        "\n",
        "2.   Given two lists of integers, write a function to calculate their largest common element. If nothing is common, return None (15 Points)\n",
        "> E.g.: xs = [0, 5, 2, 7, -2], ys = [0, 2, -15] ; largest_common_element(xs, ys) ---> 2\n",
        "\n",
        "3. Given a list of distinct integers, write a function  'count_neutralizing_pairs' that finds the number of pairs that sum to 0. (15 Points)\n",
        "> E.g.: ls = [0, 5, 2, 7, -2] ; count_neutralizing_pairs(ls) ---> 1\n",
        "\n"
      ],
      "metadata": {
        "id": "6SyKEvaR4Rm9"
      }
    },
    {
      "cell_type": "markdown",
      "source": [
        "# Solution \n"
      ],
      "metadata": {
        "id": "LQbrJiesA9kR"
      }
    },
    {
      "cell_type": "markdown",
      "source": [
        "Q1"
      ],
      "metadata": {
        "id": "wuco38JJBEVf"
      }
    },
    {
      "cell_type": "code",
      "source": [
        "#define a function which will return win_ratio and Length of the longest victory streak \n",
        "def eval_performance(results): \n",
        "     len_streak = len(results)\n",
        "     count=0\n",
        "     sub_res= results[0]\n",
        "     #Calculate win-ratio \n",
        "     #reason to convert the final result in string datatype, just to add comma in the final result using concatenation  \n",
        "     win_ratio = str(round(results.count('w')/len_streak,3))\n",
        "\n",
        "     #count length of longest winning streak \n",
        "     for i in range(len_streak): \n",
        "          temp_count = 1\n",
        "          for j in range(i+1, len_streak):\n",
        "              if (results[i] != results[j]): \n",
        "                  break \n",
        "              temp_count += 1\n",
        "          if temp_count > count: \n",
        "             count = temp_count\n",
        "             sub_res= results[i] \n",
        "     #Add comma in the result using concatenation \n",
        "     print(win_ratio + \",\"+ str(count))\n",
        "  #Function end here \n",
        "  \n",
        "#Test-case 1.\n",
        "eval_performance('wlwwwlwwld')\n",
        "#Test-case 2. \n",
        "eval_performance('wlwwwwwwlwwld')\n",
        "\n",
        "            "
      ],
      "metadata": {
        "colab": {
          "base_uri": "https://localhost:8080/"
        },
        "id": "G-ArO6Fsav7S",
        "outputId": "5534dc2a-c59e-4d5f-f93d-933b85a88df5"
      },
      "execution_count": null,
      "outputs": [
        {
          "output_type": "stream",
          "name": "stdout",
          "text": [
            "0.6,3\n",
            "0.692,6\n"
          ]
        }
      ]
    },
    {
      "cell_type": "markdown",
      "source": [
        "Q2."
      ],
      "metadata": {
        "id": "K6V2hJIRBfQy"
      }
    },
    {
      "cell_type": "code",
      "source": [
        "#define a function with two parameters l1 and l2 \n",
        "def largest_common_element(l1, l2): \n",
        "     l1_S = set(l1)\n",
        "     l2_S = set(l2)\n",
        "     #total number of common elements \n",
        "     if (l1_S & l2_S):\n",
        "       common_set = l1_S & l2_S\n",
        "     #find maximum element in common_set \n",
        "       print(max(common_set))\n",
        "     else: \n",
        "       print(\"None\")\n",
        "     return largest_common_element\n",
        "  \n",
        "#Test-case: \n",
        "xs =[0, 5, 2, 7, -2] \n",
        "ys = [0, 2, -15]\n",
        "largest_common_element(xs, ys)\n",
        "      "
      ],
      "metadata": {
        "colab": {
          "base_uri": "https://localhost:8080/"
        },
        "id": "QIxDiEUcw2WD",
        "outputId": "26999206-db84-4886-e26f-bdf3f93d95ab"
      },
      "execution_count": null,
      "outputs": [
        {
          "output_type": "stream",
          "name": "stdout",
          "text": [
            "2\n"
          ]
        },
        {
          "output_type": "execute_result",
          "data": {
            "text/plain": [
              "<function __main__.largest_common_element>"
            ]
          },
          "metadata": {},
          "execution_count": 87
        }
      ]
    },
    {
      "cell_type": "markdown",
      "source": [
        "Q3. "
      ],
      "metadata": {
        "id": "1T3XyhGuDcXD"
      }
    },
    {
      "cell_type": "code",
      "source": [
        "#define a function with a parameter 'List'; a list of distinct integers. \n",
        "def count_neutralizing_pairs(List):\n",
        "      count=0\n",
        "      List_S = set(List)\n",
        "      #Count total number of pairs that sum to 0\n",
        "      #We can convert List into Set just to avoid the repetitive elements. \n",
        "      for i in range(len(List_S)):\n",
        "          for j in range(i+1, len(List_S)):\n",
        "            if List[i]+List[j]==0: \n",
        "               #update the total pairs \n",
        "               count+= 1\n",
        "      return count \n",
        "#Test-case\n",
        "ls = [0, 5, 2, 7, -2]\n",
        "count_neutralizing_pairs(ls)\n"
      ],
      "metadata": {
        "colab": {
          "base_uri": "https://localhost:8080/"
        },
        "id": "W9MF50Rz2jtx",
        "outputId": "1cabfec3-0624-4ae4-8fe7-04cd42ad77c2"
      },
      "execution_count": null,
      "outputs": [
        {
          "output_type": "execute_result",
          "data": {
            "text/plain": [
              "1"
            ]
          },
          "metadata": {},
          "execution_count": 15
        }
      ]
    },
    {
      "cell_type": "code",
      "source": [
        "#Extra\n",
        "#Take another test case where elements are repetative so the above function will give number of unique pairs that sum to 0. \n",
        "ls = [0, 5, 2, 7, -2, 3,-3, 4,-4,2,-2]\n",
        "count_neutralizing_pairs(ls)\n",
        "\n"
      ],
      "metadata": {
        "colab": {
          "base_uri": "https://localhost:8080/"
        },
        "id": "geH3wyb44EB2",
        "outputId": "146a8605-934a-4c66-cbb4-188bd522329f"
      },
      "execution_count": null,
      "outputs": [
        {
          "output_type": "execute_result",
          "data": {
            "text/plain": [
              "3"
            ]
          },
          "metadata": {},
          "execution_count": 17
        }
      ]
    }
  ]
}